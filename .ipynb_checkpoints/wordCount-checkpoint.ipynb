{
 "cells": [
  {
   "cell_type": "markdown",
   "metadata": {},
   "source": [
    "<div style=\"font-size:18pt; padding-top:20px; text-align:center\"> Обработка потоковых данных с <b>Spark Streaming</b></div><hr>\n",
    "<div style=\"text-align:right;\">Папулин С.Ю. <span style=\"font-style: italic;font-weight: bold;\">(papulin.study@mail.ru)</span></div>"
   ]
  },
  {
   "cell_type": "markdown",
   "metadata": {},
   "source": [
    "<p>Подключение стилей для оформления тетради</p>"
   ]
  },
  {
   "cell_type": "code",
   "execution_count": null,
   "metadata": {
    "collapsed": true
   },
   "outputs": [],
   "source": [
    "from IPython.core.display import HTML\n",
    "HTML(\"<link rel='stylesheet' href='css/style.css'>\")"
   ]
  },
  {
   "cell_type": "markdown",
   "metadata": {},
   "source": [
    "Stateless transformation"
   ]
  },
  {
   "cell_type": "code",
   "execution_count": null,
   "metadata": {
    "collapsed": true
   },
   "outputs": [],
   "source": [
    "# -*- coding: utf-8 -*-\n",
    "\n",
    "import sys\n",
    "\n",
    "from pyspark import SparkContext\n",
    "from pyspark.streaming import StreamingContext\n",
    "\n",
    "# Create Spark Context\n",
    "sc = SparkContext(appName=\"WordCount\")\n",
    "\n",
    "#sc.setLogLevel(\"INFO\")\n",
    "\n",
    "# Create Streaming Context\n",
    "ssc = StreamingContext(sc, 10)\n",
    "\n",
    "# Create a stream\n",
    "lines = ssc.socketTextStream(\"localhost\", 9999)\n",
    "\n",
    "# TRANSFORMATION FOR EACH BATCH =========\n",
    "#Transform: [\"a a b\", \"b c\"] => [\"a\", \"a\", \"b\", \"b\", \"c\"] \n",
    "words = lines.flatMap(lambda line: line.split())\n",
    "\n",
    "#words.transform(lambda rdd: rdd.coalesce(1)).saveAsTextFiles(\"file:///home/cloudera/workspace/spark-streaming/output/wordCount\")\n",
    "\n",
    "# Transform: [\"a\", \"a\", \"b\", \"b\", \"c\"] => [(\"a\",1), (\"a\",1), (\"b\",1), (\"b\",1), (\"c\",1)] \n",
    "word_tuples = words.map(lambda word: (word, 1))\n",
    "\n",
    "# Transform: [(\"a\",1), (\"a\",1), (\"b\",1), (\"b\",1), (\"c\",1)] => [(\"a\",3),(\"b\",2), (\"c\",1)]\n",
    "counts = word_tuples.reduceByKey(lambda x1, x2: x1 + x2)\n",
    "# =======================================\n",
    "\n",
    "# Print the result (10 records)\n",
    "#counts.pprint()\n",
    "counts.transform(lambda rdd: rdd.coalesce(1)).saveAsTextFiles(\"file:///home/cloudera/workspace/spark-streaming/output/wordCount\")\n",
    "\n",
    "# Start Spark Streaming\n",
    "ssc.start()\n",
    "\n",
    "# Await terminiation\n",
    "ssc.awaitTermination()"
   ]
  },
  {
   "cell_type": "code",
   "execution_count": null,
   "metadata": {
    "collapsed": true
   },
   "outputs": [],
   "source": [
    "nc -lk 9999"
   ]
  },
  {
   "cell_type": "code",
   "execution_count": null,
   "metadata": {
    "collapsed": true
   },
   "outputs": [],
   "source": [
    "spark2-submit --master local[2] /home/cloudera/workspace/spark-streaming/wordCountWindow.py "
   ]
  },
  {
   "cell_type": "markdown",
   "metadata": {},
   "source": [
    "Stateful transformation"
   ]
  },
  {
   "cell_type": "code",
   "execution_count": null,
   "metadata": {
    "collapsed": true
   },
   "outputs": [],
   "source": [
    "-*- coding: utf-8 -*-\n",
    "\n",
    "import sys\n",
    "\n",
    "from pyspark import SparkContext\n",
    "from pyspark.streaming import StreamingContext\n",
    "\n",
    "# Create Spark Context\n",
    "sc = SparkContext(appName=\"WordCount\")\n",
    "\n",
    "#sc.setLogLevel(\"INFO\")\n",
    "\n",
    "# Create Streaming Context\n",
    "ssc = StreamingContext(sc, 10)\n",
    "\n",
    "ssc.checkpoint(\"tmp_spark_streaming1\") # == /user/cloudera/tmp_spark_streaming\n",
    "\n",
    "# Create a stream\n",
    "lines = ssc.socketTextStream(\"localhost\", 9999)\n",
    "\n",
    "# TRANSFORMATION FOR EACH BATCH =========\n",
    "#Transform: [\"a a b\", \"b c\"] => [\"a\", \"a\", \"b\", \"b\", \"c\"] \n",
    "words = lines.flatMap(lambda line: line.split())\n",
    "\n",
    "# Transform: [\"a\", \"a\", \"b\", \"b\", \"c\"] => [(\"a\",1), (\"a\",1), (\"b\",1), (\"b\",1), (\"c\",1)] \n",
    "word_tuples = words.map(lambda word: (word, 1))\n",
    "\n",
    "# Transform: [(\"a\",1), (\"a\",1), (\"b\",1), (\"b\",1), (\"c\",1)] => [(\"a\",3),(\"b\",2), (\"c\",1)]\n",
    "counts = word_tuples.reduceByKey(lambda x1, x2: x1 + x2)\n",
    "\n",
    "# =======================================\n",
    "\n",
    "def updateTotalCount(currentCount, countState):\n",
    "    if countState is None:\n",
    "        countState = 0\n",
    "    return sum(currentCount, countState)\n",
    "\n",
    "totalCounts = counts.updateStateByKey(updateTotalCount)\n",
    "\n",
    "# Print the result (10 records)\n",
    "#counts.pprint()\n",
    "totalCounts.transform(lambda rdd: rdd.coalesce(1)).saveAsTextFiles(\"file:///home/cloudera/workspace/spark-streaming/output/wordCount\")\n",
    "\n",
    "# Start Spark Streaming\n",
    "ssc.start()\n",
    "\n",
    "# Await terminiation\n",
    "ssc.awaitTermination()"
   ]
  },
  {
   "cell_type": "code",
   "execution_count": null,
   "metadata": {
    "collapsed": true
   },
   "outputs": [],
   "source": [
    "Window transformation"
   ]
  },
  {
   "cell_type": "code",
   "execution_count": null,
   "metadata": {
    "collapsed": true
   },
   "outputs": [],
   "source": [
    "# -*- coding: utf-8 -*-\n",
    "\n",
    "import sys\n",
    "\n",
    "from pyspark import SparkContext\n",
    "from pyspark.streaming import StreamingContext\n",
    "\n",
    "# Create Spark Context\n",
    "sc = SparkContext(appName=\"WordCount\")\n",
    "\n",
    "#sc.setLogLevel(\"INFO\")\n",
    "\n",
    "# Create Streaming Context\n",
    "ssc = StreamingContext(sc, 10)\n",
    "\n",
    "ssc.checkpoint(\"tmp_spark_streaming1\") # == /user/cloudera/tmp_spark_streaming\n",
    "\n",
    "# Create a stream\n",
    "lines = ssc.socketTextStream(\"localhost\", 9999)\n",
    "\n",
    "# TRANSFORMATION FOR EACH BATCH =========\n",
    "#Transform: [\"a a b\", \"b c\"] => [\"a\", \"a\", \"b\", \"b\", \"c\"] \n",
    "words = lines.flatMap(lambda line: line.split())\n",
    "\n",
    "#words.transform(lambda rdd: rdd.coalesce(1)).saveAsTextFiles(\"file:///home/cloudera/workspace/spark-streaming/output/wordCount\")\n",
    "\n",
    "# Transform: [\"a\", \"a\", \"b\", \"b\", \"c\"] => [(\"a\",1), (\"a\",1), (\"b\",1), (\"b\",1), (\"c\",1)] \n",
    "word_tuples = words.map(lambda word: (word, 1))\n",
    "\n",
    "# Transform: [(\"a\",1), (\"a\",1), (\"b\",1), (\"b\",1), (\"c\",1)] => [(\"a\",3),(\"b\",2), (\"c\",1)]\n",
    "counts = word_tuples.reduceByKey(lambda x1, x2: x1 + x2)\n",
    "\n",
    "# =======================================\n",
    "\n",
    "#windowed_word_counts = counts.reduceByKeyAndWindow(lambda x, y: x + y, lambda x, y: x - y, 20, 10)\n",
    "windowed_word_counts = counts.reduceByKeyAndWindow(lambda x, y: x + y, None, 20, 10)\n",
    "\n",
    "# Print the result (10 records)\n",
    "#counts.pprint()\n",
    "windowed_word_counts.transform(lambda rdd: rdd.coalesce(1)).saveAsTextFiles(\"file:///home/cloudera/workspace/spark-streaming/output/wordCount\")\n",
    "\n",
    "# Start Spark Streaming\n",
    "ssc.start()\n",
    "\n",
    "# Await terminiation\n",
    "ssc.awaitTermination()"
   ]
  }
 ],
 "metadata": {
  "kernelspec": {
   "display_name": "Python 3",
   "language": "python",
   "name": "python3"
  },
  "language_info": {
   "codemirror_mode": {
    "name": "ipython",
    "version": 3
   },
   "file_extension": ".py",
   "mimetype": "text/x-python",
   "name": "python",
   "nbconvert_exporter": "python",
   "pygments_lexer": "ipython3",
   "version": "3.6.3"
  }
 },
 "nbformat": 4,
 "nbformat_minor": 2
}
