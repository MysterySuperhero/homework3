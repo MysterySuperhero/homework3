{
 "cells": [
  {
   "cell_type": "markdown",
   "metadata": {},
   "source": [
    "<div style=\"font-size:18pt; padding-top:20px; text-align:center\"><b>Spark Streaming and </b> <span style=\"font-weight:bold; color:green\">Twitter</span></div><hr>\n",
    "<div style=\"text-align:right;\">Sergei Yu. Papulin <span style=\"font-style: italic;font-weight: bold;\">(papulin_bmstu@mail.ru, papulin_hse@mail.ru)</span></div>"
   ]
  },
  {
   "cell_type": "code",
   "execution_count": null,
   "metadata": {
    "collapsed": true
   },
   "outputs": [],
   "source": [
    "sudo yum install kafka"
   ]
  },
  {
   "cell_type": "code",
   "execution_count": null,
   "metadata": {
    "collapsed": true
   },
   "outputs": [],
   "source": [
    "sudo yum install kafka-server"
   ]
  },
  {
   "cell_type": "code",
   "execution_count": null,
   "metadata": {
    "collapsed": true
   },
   "outputs": [],
   "source": [
    "sudo nano /etc/kafka/conf/server.properties "
   ]
  },
  {
   "cell_type": "code",
   "execution_count": null,
   "metadata": {
    "collapsed": true
   },
   "outputs": [],
   "source": [
    "sudo service kafka-server start"
   ]
  },
  {
   "cell_type": "code",
   "execution_count": null,
   "metadata": {
    "collapsed": true
   },
   "outputs": [],
   "source": [
    "kafka-topics --create --zookeeper localhost:2181 --topic tweets-kafka --partition 1 --replication-factor 1"
   ]
  },
  {
   "cell_type": "code",
   "execution_count": null,
   "metadata": {
    "collapsed": true
   },
   "outputs": [],
   "source": [
    "kafka-console-consumer --zookeeper localhost:2181 --topic tweets-kafka --from-beginning"
   ]
  },
  {
   "cell_type": "code",
   "execution_count": null,
   "metadata": {
    "collapsed": true
   },
   "outputs": [],
   "source": [
    "kafka-console-producer --broker-list localhost:9092 -topic tweets-kafka"
   ]
  },
  {
   "cell_type": "code",
   "execution_count": null,
   "metadata": {
    "collapsed": true
   },
   "outputs": [],
   "source": [
    "sudo pip install kafka-python"
   ]
  },
  {
   "cell_type": "code",
   "execution_count": null,
   "metadata": {
    "collapsed": true
   },
   "outputs": [],
   "source": [
    "sudo pip install tweepy"
   ]
  },
  {
   "cell_type": "code",
   "execution_count": null,
   "metadata": {
    "collapsed": true
   },
   "outputs": [],
   "source": [
    "# -*- coding: utf-8 -*-\n",
    "\n",
    "import tweepy\n",
    "from tweepy.streaming import json\n",
    "from kafka import KafkaProducer\n",
    "\n",
    "\n",
    "producer = KafkaProducer(bootstrap_servers=\"localhost:9092\")\n",
    "topic_name = \"tweets-kafka\"\n",
    "\n",
    "\n",
    "class MyStreamListener(tweepy.StreamListener):\n",
    "    \n",
    "    def on_data(self, raw_data):\n",
    "\n",
    "        data = json.loads(raw_data)\n",
    "\n",
    "        if \"extended_tweet\" in data:\n",
    "            text = data[\"extended_tweet\"][\"full_text\"]\n",
    "            print(text)\n",
    "            producer.send(topic_name, text.encode(\"utf-8\"))\n",
    "        else:\n",
    "            if \"text\" in data:\n",
    "                text = data[\"text\"].lower()\n",
    "                print(data[\"text\"])\n",
    "                producer.send(topic_name, data[\"text\"].encode(\"utf-8\"))\n",
    "\n",
    "\n",
    "consumer_token = \"\"\n",
    "consumer_secret = \"\" \n",
    "access_token = \"\"\n",
    "access_secret = \"\"\n",
    "\n",
    "auth = tweepy.OAuthHandler(consumer_token, consumer_secret)\n",
    "auth.set_access_token(access_token, access_secret)\n",
    "\n",
    "api = tweepy.API(auth)\n",
    "\n",
    "myStreamListener = MyStreamListener()\n",
    "\n",
    "myStream = tweepy.Stream(auth=api.auth, listener=myStreamListener)\n",
    "\n",
    "region = [34.80, 49.87, 149.41, 74.13]\n",
    "\n",
    "myStream.filter(locations=region)"
   ]
  },
  {
   "cell_type": "code",
   "execution_count": null,
   "metadata": {
    "collapsed": true
   },
   "outputs": [],
   "source": [
    "# -*- coding: utf-8 -*-\n",
    "\n",
    "import sys\n",
    "\n",
    "from pyspark import SparkContext\n",
    "from pyspark.streaming import StreamingContext\n",
    "from pyspark.streaming.kafka import KafkaUtils\n",
    "\n",
    "zk_server = \"localhost:2181\" # сервер Zookeeper\n",
    "topic = \"tweets-kafka\" # топик\n",
    "\n",
    "# Функция для обновления значений количества слов\n",
    "def updateTotalCount(currentCount, countState):\n",
    "    if countState is None:\n",
    "        countState = 0\n",
    "    return sum(currentCount, countState)\n",
    "\n",
    "# Создаем Spark Context\n",
    "sc = SparkContext(appName=\"KafkaTwitterWordCount\")\n",
    "\n",
    "sc.setLogLevel(\"OFF\")\n",
    "\n",
    "# Создаем Streaming Context\n",
    "ssc = StreamingContext(sc, 10)\n",
    "\n",
    "# Объявляем checkpoint и указываем директорию в HDFS, где будут храниться значения\n",
    "ssc.checkpoint(\"tmp_spark_streaming1\")\n",
    "\n",
    "# Создаем подписчика на поток от Kafka c топиком topic = \"tweets-kafka\"\n",
    "kafka_stream = KafkaUtils.createStream(ssc, zk_server, \"spark-streaming-consumer\", {topic: 1})\n",
    "\n",
    "# Трансформируем мини-batch \n",
    "lines = kafka_stream.map(lambda x: x[1])\n",
    "\n",
    "# Подсчитывем количество слов для мини-batch\n",
    "counts = lines.flatMap(lambda line: line.split()).map(lambda word: (word, 1)).reduceByKey(lambda x1, x2: x1 + x2)\n",
    "\n",
    "# Обновляем значения количества слов с учетом нового мини-batch\n",
    "totalCounts = counts.updateStateByKey(updateTotalCount)\n",
    "\n",
    "totalCountsSorted = totalCounts.transform(lambda x_rdd: x_rdd.sortBy(lambda x: -x[1]))\n",
    "\n",
    "# Выводим текущий результат\n",
    "totalCountsSorted.pprint()\n",
    "\n",
    "# Запускаем Spark Streaming\n",
    "ssc.start()\n",
    "\n",
    "# Ожидаем остановку\n",
    "ssc.awaitTermination()"
   ]
  },
  {
   "cell_type": "code",
   "execution_count": null,
   "metadata": {
    "collapsed": true
   },
   "outputs": [],
   "source": [
    "http://kafka-python.readthedocs.io/en/master/apidoc/KafkaClient.html\n",
    "https://kafka.apache.org/0100/documentation/#configuration\n",
    "https://spark.apache.org/docs/2.2.0/streaming-kafka-0-8-integration.html"
   ]
  }
 ],
 "metadata": {
  "kernelspec": {
   "display_name": "Python 3",
   "language": "python",
   "name": "python3"
  },
  "language_info": {
   "codemirror_mode": {
    "name": "ipython",
    "version": 3
   },
   "file_extension": ".py",
   "mimetype": "text/x-python",
   "name": "python",
   "nbconvert_exporter": "python",
   "pygments_lexer": "ipython3",
   "version": "3.6.3"
  }
 },
 "nbformat": 4,
 "nbformat_minor": 2
}
